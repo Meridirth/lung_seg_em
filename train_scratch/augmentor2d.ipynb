{
 "cells": [
  {
   "cell_type": "code",
   "execution_count": 4,
   "metadata": {},
   "outputs": [],
   "source": [
    "import threading\n",
    "import numpy as np\n",
    "import tensorflow as tf"
   ]
  },
  {
   "cell_type": "code",
   "execution_count": 5,
   "metadata": {},
   "outputs": [],
   "source": [
    "def allocate_slices_to_threads(i_start, i_end, n_process):\n",
    "    n_slices = i_end - i_start\n",
    "    if n_slices < n_process:\n",
    "        n_process = n_slices\n",
    "    njobs = np.zeros((n_slices // n_process + 1) * n_process, int)\n",
    "    njobs[:n_slices] = 1\n",
    "    \n",
    "    njobs = njobs.reshape([-1, n_process]).sum(0)\n",
    "    \n",
    "    job_ends = np.cumsum(njobs) + i_start\n",
    "    job_starts = job_ends - njobs\n",
    "    \n",
    "    return np.array([job_starts, job_ends]).T"
   ]
  },
  {
   "cell_type": "code",
   "execution_count": 6,
   "metadata": {},
   "outputs": [],
   "source": [
    "def augment_2d(islices, src_img, src_seg, results_img, results_seg, generator):\n",
    "        '''\n",
    "        generate augmented 2d training dataset\n",
    "        '''\n",
    "        for islice in islices:\n",
    "            transform = generator.get_random_transform(src_img[islice, ...].shape)\n",
    "            results_img[islice, ...] = generator.apply_transform(src_img[islice, ...], transform)\n",
    "            results_seg[islice, ...] = generator.apply_transform(src_seg[islice, ...], transform)"
   ]
  },
  {
   "cell_type": "code",
   "execution_count": 7,
   "metadata": {},
   "outputs": [],
   "source": [
    "class multi_thread_augmentor:\n",
    "    def __init__(self):\n",
    "        self.threads = []\n",
    "        self.rotation_range = 90\n",
    "        self.width_shift_range = 0.1\n",
    "        self.height_shift_range = 0.1\n",
    "        self.zoom_range = [0.9, 1.1]\n",
    "        self.horizontal_flip = 1\n",
    "        self.vertical_flip = 1\n",
    "        self.n_process = 8\n",
    "        \n",
    "    def add_to_parser(self, parser):\n",
    "        for key in vars(self):\n",
    "            if key in ['threads']:\n",
    "                continue\n",
    "            value = vars(self)[key]\n",
    "            if type(value) == list:\n",
    "                parser.add_argument('--%s'%key, type=type(value[0]), nargs='+', default=value)\n",
    "            else:\n",
    "                parser.add_argument('--%s'%key, type=type(value), default=value)\n",
    "        return parser\n",
    "    \n",
    "    def from_args(self, args):\n",
    "        for key in vars(args):\n",
    "            if hasattr(self, key):\n",
    "                setattr(self, key, getattr(args, key))\n",
    "    \n",
    "    def start_next_batch_2d(self, islices, original_imgs, original_segs):\n",
    "        assert (len(self.threads) == 0)\n",
    "        \n",
    "        # allocate slices to different threads\n",
    "        src_img = original_imgs[islices]\n",
    "        src_seg = original_segs[islices]\n",
    "        \n",
    "        job_slices = allocate_slices_to_threads(0, len(src_img), self.n_process)\n",
    "                \n",
    "        # create buffer to hold results\n",
    "        self.aug_img = np.zeros_like(src_img)\n",
    "        self.aug_seg = np.zeros_like(src_seg)\n",
    "        \n",
    "        generator = tf.keras.preprocessing.image.ImageDataGenerator(\n",
    "            rotation_range = self.rotation_range, \n",
    "            width_shift_range = self.width_shift_range, \n",
    "            height_shift_range = self.height_shift_range, \n",
    "            zoom_range = self.zoom_range,\n",
    "            fill_mode = 'constant', \n",
    "            cval = 0, \n",
    "            horizontal_flip = self.horizontal_flip, \n",
    "            vertical_flip = self.vertical_flip)\n",
    "        \n",
    "        self.threads = []\n",
    "        for i in range(len(job_slices)):\n",
    "            islices = np.arange(job_slices[i][0], job_slices[i][1])\n",
    "            thread = threading.Thread(target = augment_2d, args = (islices, src_img, src_seg, self.aug_img, self.aug_seg, generator))\n",
    "            self.threads.append(thread)\n",
    "            thread.start()\n",
    "    \n",
    "    def get_results(self):\n",
    "        for thread in self.threads:\n",
    "            thread.join()\n",
    "        \n",
    "        self.threads = []\n",
    "        return np.copy(self.aug_img), np.where(self.aug_seg > 0.5, 1, 0)"
   ]
  },
  {
   "cell_type": "code",
   "execution_count": 8,
   "metadata": {},
   "outputs": [],
   "source": [
    "if __name__ == '__main__':\n",
    "    import subprocess\n",
    "    subprocess.call(['jupyter', 'nbconvert', '--to', 'script', 'augmentor2d'])"
   ]
  },
  {
   "cell_type": "code",
   "execution_count": null,
   "metadata": {},
   "outputs": [],
   "source": []
  }
 ],
 "metadata": {
  "kernelspec": {
   "display_name": "Python 2",
   "language": "python",
   "name": "python2"
  },
  "language_info": {
   "codemirror_mode": {
    "name": "ipython",
    "version": 2
   },
   "file_extension": ".py",
   "mimetype": "text/x-python",
   "name": "python",
   "nbconvert_exporter": "python",
   "pygments_lexer": "ipython2",
   "version": "2.7.17"
  }
 },
 "nbformat": 4,
 "nbformat_minor": 2
}
