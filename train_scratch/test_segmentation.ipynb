{
 "cells": [
  {
   "cell_type": "code",
   "execution_count": 1,
   "metadata": {},
   "outputs": [],
   "source": [
    "from __future__ import print_function\n",
    "import tensorflow as tf\n",
    "import matplotlib.pyplot as plt\n",
    "import numpy as np\n",
    "import glob\n",
    "import os\n",
    "import sys\n",
    "import argparse\n",
    "import unet2d\n",
    "import augmentor2d\n",
    "import pandas as pd"
   ]
  },
  {
   "cell_type": "code",
   "execution_count": 4,
   "metadata": {},
   "outputs": [],
   "source": [
    "parser = argparse.ArgumentParser()\n",
    "parser.add_argument('--input_dir', type=str, default='/raid/COVID-19/CT-severity/processed/dataset/medseg_1/npzs/')\n",
    "parser.add_argument('--test', type=int, nargs='+', default=[0])\n",
    "parser.add_argument('--check_dir', type=str, default='/raid/COVID-19/CT-severity/results/Iran-2020-04-01-with-annotation/unet2d_256x256x7_mask/segmentation/focal_0_area_0/')\n",
    "\n",
    "parser.add_argument('--device', type=str, default='2')\n",
    "parser.add_argument('--batch_size', type=int, default=16)\n",
    "parser.add_argument('--epoch', type=int, default=199)\n",
    "\n",
    "net = unet2d.unet2d()\n",
    "parser = net.add_to_parser(parser)"
   ]
  },
  {
   "cell_type": "code",
   "execution_count": 5,
   "metadata": {},
   "outputs": [
    {
     "name": "stdout",
     "output_type": "stream",
     "text": [
      "layers = 5\n",
      "fc_nodes = [1024]\n",
      "check_dir = /raid/COVID-19/CT-severity/results/Iran-2020-04-01-with-annotation/unet2d_256x256x7_mask/segmentation/focal_0_area_0/\n",
      "up_layers = 0\n",
      "input_dir = /raid/COVID-19/CT-severity/processed/dataset/medseg_1/npzs/\n",
      "keep_prob = 1.0\n",
      "n_class = 6\n",
      "dice_smooth = 1\n",
      "batch_size = 16\n",
      "input_shape = [256, 256, 7]\n",
      "device = 1\n",
      "epoch = 199\n",
      "test = [0]\n",
      "filter_size = 3\n",
      "pool_size = 2\n",
      "fc_drop = [0.25]\n",
      "features_root = 32\n",
      "finetune_scope = finetune\n"
     ]
    }
   ],
   "source": [
    "if sys.argv[0] != 'test_segmentation.py':\n",
    "    args = parser.parse_args(['--device', '1', '--epoch', '199'])\n",
    "else:\n",
    "    args = parser.parse_args()\n",
    "\n",
    "for k in vars(args):\n",
    "    print (k, '=', vars(args)[k])"
   ]
  },
  {
   "cell_type": "code",
   "execution_count": 6,
   "metadata": {},
   "outputs": [
    {
     "name": "stdout",
     "output_type": "stream",
     "text": [
      "WARNING:tensorflow:From unet2d.py:200: The name tf.placeholder is deprecated. Please use tf.compat.v1.placeholder instead.\n",
      "\n",
      "WARNING:tensorflow:From unet2d.py:43: The name tf.random_uniform is deprecated. Please use tf.random.uniform instead.\n",
      "\n",
      "WARNING:tensorflow:From unet2d.py:58: calling dropout (from tensorflow.python.ops.nn_ops) with keep_prob is deprecated and will be removed in a future version.\n",
      "Instructions for updating:\n",
      "Please use `rate` instead of `keep_prob`. Rate should be set to `rate = 1 - keep_prob`.\n",
      "WARNING:tensorflow:From unet2d.py:31: The name tf.variable_scope is deprecated. Please use tf.compat.v1.variable_scope instead.\n",
      "\n",
      "WARNING:tensorflow:\n",
      "The TensorFlow contrib module will not be included in TensorFlow 2.0.\n",
      "For more information, please see:\n",
      "  * https://github.com/tensorflow/community/blob/master/rfcs/20180907-contrib-sunset.md\n",
      "  * https://github.com/tensorflow/addons\n",
      "  * https://github.com/tensorflow/io (for I/O related ops)\n",
      "If you depend on functionality not listed there, please file an issue.\n",
      "\n",
      "WARNING:tensorflow:From /home/dufan.wu/miniconda3/envs/test_tfgpu/lib/python2.7/site-packages/tensorflow/python/training/saver.py:1276: checkpoint_exists (from tensorflow.python.training.checkpoint_management) is deprecated and will be removed in a future version.\n",
      "Instructions for updating:\n",
      "Use standard file APIs to check for files with this prefix.\n",
      "INFO:tensorflow:Restoring parameters from /raid/COVID-19/CT-severity/results/Iran-2020-04-01-with-annotation/unet2d_256x256x7_mask/segmentation/focal_0_area_0/199\n"
     ]
    }
   ],
   "source": [
    "# build network\n",
    "os.environ['CUDA_VISIBLE_DEVICES'] = args.device\n",
    "tf.reset_default_graph()\n",
    "model = unet2d.unet2d()\n",
    "model.from_args(args)\n",
    "model.build_unet()\n",
    "\n",
    "loader = tf.train.Saver()\n",
    "\n",
    "sess = tf.Session()\n",
    "sess.run(tf.global_variables_initializer())\n",
    "try:\n",
    "#     loader.restore(sess, '../UNet2D-Kuang/result_dice_focal/V0zteandmriRigid_Beta0it100')\n",
    "    loader.restore(sess, os.path.join(args.check_dir, str(args.epoch)))\n",
    "except Exception as e:\n",
    "    print ('Failed to restore from checkpoint:', e)"
   ]
  },
  {
   "cell_type": "code",
   "execution_count": 7,
   "metadata": {},
   "outputs": [],
   "source": [
    "# load training data\n",
    "list_filename = [os.path.join(args.input_dir, str(s)+'.npz') for s in args.test]\n",
    "imgs = []\n",
    "labels = []\n",
    "mrns = []\n",
    "lungs = []\n",
    "islices = []\n",
    "annotations = []\n",
    "for filename in list_filename:\n",
    "    dataset = os.path.basename(filename)[:-len('.npz')]\n",
    "    f = np.load(filename)\n",
    "    imgs.append(f['img'])\n",
    "    labels.append(f['label'])\n",
    "    mrns.append(f['mrn'])\n",
    "    lungs.append(f['lung'])\n",
    "    islices.append(f['islice'])\n",
    "    annotations.append(f['annotation'])\n",
    "\n",
    "\n",
    "# imgs = np.concatenate(imgs)\n",
    "# labels = np.concatenate(labels)\n",
    "# mrns = np.concatenate(mrns)\n",
    "# lungs = np.concatenate(lungs)\n",
    "\n",
    "# discard the ones with non-determined labels\n",
    "# sum_label = labels.sum(-1)\n",
    "# inds = np.where(sum_label >= 0)[0]\n",
    "# imgs = imgs[inds, ...]\n",
    "# labels = labels[inds, ...]\n",
    "# mrns = mrns[inds, ...]"
   ]
  },
  {
   "cell_type": "code",
   "execution_count": 9,
   "metadata": {},
   "outputs": [
    {
     "data": {
      "text/plain": [
       "(407, 256, 256, 1)"
      ]
     },
     "execution_count": 9,
     "metadata": {},
     "output_type": "execute_result"
    }
   ],
   "source": [
    "labels[0].shape"
   ]
  },
  {
   "cell_type": "code",
   "execution_count": 10,
   "metadata": {},
   "outputs": [
    {
     "data": {
      "text/plain": [
       "array([0., 1., 2.], dtype=float32)"
      ]
     },
     "execution_count": 10,
     "metadata": {},
     "output_type": "execute_result"
    }
   ],
   "source": [
    "np.unique(labels[0])"
   ]
  },
  {
   "cell_type": "code",
   "execution_count": 7,
   "metadata": {},
   "outputs": [
    {
     "name": "stdout",
     "output_type": "stream",
     "text": [
      "0\n",
      "0/407,16/407,32/407,48/407,64/407,80/407,96/407,112/407,128/407,144/407,160/407,176/407,192/407,208/407,224/407,240/407,256/407,272/407,288/407,304/407,320/407,336/407,352/407,368/407,384/407,400/407,"
     ]
    }
   ],
   "source": [
    "# output to another set of file with the predicted volumes\n",
    "# the predicted volumes will be used to train type classification\n",
    "output_dir = os.path.join(args.input_dir, 'with_unet_pred')\n",
    "if not os.path.exists(output_dir):\n",
    "    os.makedirs(output_dir)\n",
    "for i, filename in enumerate(list_filename):\n",
    "    print (i)\n",
    "    preds = []\n",
    "    for ibatch in range(0, imgs[i].shape[0], args.batch_size):\n",
    "        print ('%d/%d'%(ibatch, imgs[i].shape[0]), end=',')\n",
    "        batch_x = imgs[i][ibatch:ibatch + args.batch_size]\n",
    "        pred = sess.run(model.pred, {model.X: batch_x, model.phase: 0})\n",
    "\n",
    "        preds.append(pred)\n",
    "    preds = np.concatenate(preds)\n",
    "    \n",
    "    np.savez(os.path.join(output_dir, os.path.basename(filename)), \n",
    "             pred = preds, img = imgs[i], label = labels[i], annotation = annotations[i], \n",
    "             lung = lungs[i], mrns = mrns[i], islice = islices[i])"
   ]
  },
  {
   "cell_type": "code",
   "execution_count": 8,
   "metadata": {},
   "outputs": [
    {
     "name": "stdout",
     "output_type": "stream",
     "text": [
      "0/688,16/688,32/688,48/688,64/688,80/688,96/688,112/688,128/688,144/688,160/688,176/688,192/688,208/688,224/688,240/688,256/688,272/688,288/688,304/688,320/688,336/688,352/688,368/688,384/688,400/688,416/688,432/688,448/688,464/688,480/688,496/688,512/688,528/688,544/688,560/688,576/688,592/688,608/688,624/688,640/688,656/688,672/688,"
     ]
    }
   ],
   "source": [
    "preds = []\n",
    "for ibatch in range(0, imgs.shape[0], args.batch_size):\n",
    "    print ('%d/%d'%(ibatch, imgs.shape[0]), end=',')\n",
    "    batch_x = imgs[ibatch:ibatch + args.batch_size]\n",
    "    pred = sess.run(model.pred, {model.X: batch_x, model.phase: 0})\n",
    "    \n",
    "    preds.append(pred)\n",
    "preds = np.concatenate(preds)"
   ]
  },
  {
   "cell_type": "code",
   "execution_count": 9,
   "metadata": {},
   "outputs": [
    {
     "name": "stdout",
     "output_type": "stream",
     "text": [
      "0.7099983927547152\n"
     ]
    }
   ],
   "source": [
    "binary_preds = np.where(preds > 0.5, 1, 0)\n",
    "dice = 2 * np.sum(labels * binary_preds) / (np.sum(labels) + np.sum(binary_preds))\n",
    "print (dice)"
   ]
  },
  {
   "cell_type": "code",
   "execution_count": 10,
   "metadata": {},
   "outputs": [],
   "source": [
    "patient_mrns = np.unique(mrns)\n",
    "label_sev = []\n",
    "pred_sev = []\n",
    "for mrn in patient_mrns:\n",
    "    inds = np.where(mrns == mrn)[0]\n",
    "    sub_img = imgs[inds, ..., 3]\n",
    "    sub_label = labels[inds]\n",
    "    sub_pred = preds[inds]\n",
    "    sub_lung = lungs[inds]\n",
    "    \n",
    "    label_sev.append(np.sum(sub_label) / np.sum(sub_lung))\n",
    "    pred_sev.append(np.sum(sub_pred) / np.sum(sub_lung))"
   ]
  },
  {
   "cell_type": "code",
   "execution_count": 11,
   "metadata": {},
   "outputs": [
    {
     "data": {
      "text/plain": [
       "(0, 1)"
      ]
     },
     "execution_count": 11,
     "metadata": {},
     "output_type": "execute_result"
    },
    {
     "data": {
      "image/png": "[encoded data removed]",
      "text/plain": [
       "<Figure size 288x288 with 1 Axes>"
      ]
     },
     "metadata": {
      "needs_background": "light"
     },
     "output_type": "display_data"
    }
   ],
   "source": [
    "plt.figure(figsize=[4,4])\n",
    "plt.plot(np.array(pred_sev), label_sev, '.')\n",
    "plt.xlim([0,1])\n",
    "plt.ylim([0,1])"
   ]
  },
  {
   "cell_type": "code",
   "execution_count": 12,
   "metadata": {},
   "outputs": [],
   "source": [
    "import itertools\n",
    "\n",
    "# classification accuracy\n",
    "def get_discrete_severity(severity, thresholds):\n",
    "    thresholds = np.sort(thresholds)\n",
    "    label = np.zeros_like(severity)\n",
    "    label[severity > thresholds[-1]] = len(thresholds)\n",
    "    for k in range(len(thresholds)-1, -1, -1):\n",
    "        label[severity <= thresholds[k]] = k\n",
    "    return label.astype(int)\n",
    "\n",
    "# confusion matrix\n",
    "# confusion matrix\n",
    "def CalcConfusionMatrix2(labels, preds, nClasses = 5):\n",
    "    cm = np.zeros([nClasses, nClasses], int)\n",
    "    \n",
    "    for i in range(labels.shape[0]):\n",
    "        cm[preds[i], labels[i]] += 1\n",
    "    \n",
    "    return cm\n",
    "\n",
    "def plot_confusion_matrix(cm, class_names, title = 'Confusion matrix', \n",
    "                          ylabel = 'Prediction', xlabel = 'Label', normalized = True,\n",
    "                          figsize = (6,6), dpi=200):\n",
    "    \"\"\"\n",
    "    Returns a matplotlib figure containing the plotted confusion matrix.\n",
    "\n",
    "    Args:\n",
    "    cm (array, shape = [n, n]): a confusion matrix of integer classes\n",
    "    class_names (array, shape = [n]): String names of the integer classes\n",
    "    \"\"\"\n",
    "    figure = plt.figure(figsize=figsize, dpi=dpi)\n",
    "    plt.imshow(cm, interpolation='nearest', cmap=plt.cm.Blues)\n",
    "    plt.title(title)\n",
    "    plt.colorbar()\n",
    "    tick_marks = np.arange(len(class_names))\n",
    "    plt.xticks(tick_marks, class_names, rotation=45)\n",
    "    plt.yticks(tick_marks, class_names)\n",
    "\n",
    "    # Normalize the confusion matrix.\n",
    "    if normalized:\n",
    "        cm = np.around(cm.astype('float') / cm.sum(), decimals=2)\n",
    "#     cm = np.around(cm.astype('float') / cm.sum(axis=1)[:, np.newaxis], decimals=2)\n",
    "\n",
    "    # Use white text if squares are dark; otherwise black.\n",
    "    threshold = cm.max() / 2.\n",
    "    for i, j in itertools.product(range(cm.shape[0]), range(cm.shape[1])):\n",
    "        color = \"white\" if cm[i, j] > threshold else \"black\"\n",
    "        plt.text(j, i, cm[i, j], horizontalalignment=\"center\", color=color)\n",
    "\n",
    "#     plt.tight_layout()\n",
    "    plt.ylabel(ylabel)\n",
    "    plt.xlabel(xlabel)\n",
    "    return figure\n",
    "\n",
    "def plot_to_image(figure):\n",
    "    \"\"\"Converts the matplotlib plot specified by 'figure' to a PNG image and\n",
    "    returns it. The supplied figure is closed and inaccessible after this call.\"\"\"\n",
    "    # Save the plot to a PNG in memory.\n",
    "    buf = io.BytesIO()\n",
    "    plt.savefig(buf, format='png', bbox_inches='tight')\n",
    "    # Closing the figure prevents it from being displayed directly inside\n",
    "    # the notebook.\n",
    "    plt.close(figure)\n",
    "    buf.seek(0)\n",
    "    # Convert PNG buffer to TF image\n",
    "    image = imageio.imread(buf)\n",
    "    # Add the batch dimension\n",
    "    \n",
    "    return image[np.newaxis, ...]"
   ]
  },
  {
   "cell_type": "code",
   "execution_count": 13,
   "metadata": {},
   "outputs": [
    {
     "name": "stdout",
     "output_type": "stream",
     "text": [
      "0.8571428571428571\n"
     ]
    },
    {
     "data": {
      "image/png": "[encoded data removed]",
      "text/plain": [
       "<Figure size 600x600 with 2 Axes>"
      ]
     },
     "metadata": {
      "needs_background": "light"
     },
     "output_type": "display_data"
    }
   ],
   "source": [
    "thresholds = [0.05, 0.25, 0.5]\n",
    "discrete_label = get_discrete_severity(label_sev, thresholds)\n",
    "discrete_pred = get_discrete_severity(pred_sev, thresholds)\n",
    "cm = CalcConfusionMatrix2(discrete_label, discrete_pred, len(thresholds) + 1)\n",
    "accuracy = np.sum(np.diag(cm)) / np.sum(cm, dtype=np.float32)\n",
    "print (accuracy)\n",
    "cm_img = plot_confusion_matrix(cm, ['<5%', '5-25%', '25-50%', '>50%'], normalized =True, dpi=100)"
   ]
  },
  {
   "cell_type": "code",
   "execution_count": null,
   "metadata": {},
   "outputs": [],
   "source": []
  }
 ],
 "metadata": {
  "kernelspec": {
   "display_name": "Python 2",
   "language": "python",
   "name": "python2"
  },
  "language_info": {
   "codemirror_mode": {
    "name": "ipython",
    "version": 2
   },
   "file_extension": ".py",
   "mimetype": "text/x-python",
   "name": "python",
   "nbconvert_exporter": "python",
   "pygments_lexer": "ipython2",
   "version": "2.7.17"
  }
 },
 "nbformat": 4,
 "nbformat_minor": 4
}
